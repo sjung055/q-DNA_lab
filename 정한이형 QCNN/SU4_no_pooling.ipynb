{
 "cells": [
  {
   "cell_type": "code",
   "execution_count": 1,
   "metadata": {},
   "outputs": [],
   "source": [
    "import pennylane as qml\n",
    "import pennylane.numpy as np\n",
    "import torch\n",
    "from torch.nn import MSELoss, CrossEntropyLoss\n",
    "from torch.optim import Adam, Adagrad\n",
    "from torch.utils.data.dataloader import DataLoader\n",
    "from torch.utils.data.dataset import Dataset\n",
    "from torch.utils.data import random_split\n",
    "\n",
    "import os\n",
    "import torchvision\n",
    "import torchvision.transforms as transforms\n",
    "\n",
    "# PyTorch TensorBoard support\n",
    "from torch.utils.tensorboard import SummaryWriter\n",
    "from datetime import datetime"
   ]
  },
  {
   "cell_type": "code",
   "execution_count": 2,
   "metadata": {},
   "outputs": [],
   "source": [
    "EPOCHS = 10\n",
    "SEED = 16\n",
    "TRAINSIZE = 10000\n",
    "VALSIZE = 1000\n",
    "TESTSIZE = 1000"
   ]
  },
  {
   "cell_type": "code",
   "execution_count": 3,
   "metadata": {},
   "outputs": [],
   "source": [
    "from QCNN_circuit_only_SU4 import QCNN\n",
    "from ansatz import ConvCircSU4\n",
    "\n",
    "qcnn = QCNN(n_qubits=5, conv_ansatz=ConvCircSU4(), stride=1)\n",
    "\n",
    "dev = qml.device('default.qubit', wires=qcnn.total_qubit)\n",
    "\n",
    "@qml.qnode(dev, interface='torch')\n",
    "def circuit(params, data):\n",
    "    qcnn.construct_circuit(params, data)\n",
    "    return qml.expval(qml.PauliZ(0))"
   ]
  },
  {
   "cell_type": "code",
   "execution_count": 4,
   "metadata": {},
   "outputs": [],
   "source": [
    "from datasetloading import TrainTestLoader"
   ]
  },
  {
   "cell_type": "code",
   "execution_count": 5,
   "metadata": {},
   "outputs": [
    {
     "name": "stdout",
     "output_type": "stream",
     "text": [
      "Training set has 10000 instances\n",
      "validation set has 1000 instances\n",
      "test set has 1000 instances\n"
     ]
    }
   ],
   "source": [
    "loader = TrainTestLoader('./mnist_train.csv', './mnist_test.csv')\n",
    "loader.scale_pca(n_dim=30)\n",
    "training_set, test_set = loader.return_dataset()\n",
    "training_set.filter([0,1])\n",
    "test_set.filter([0,1])\n",
    "training_set, validation_set = random_split(training_set, [TRAINSIZE, len(training_set)-TRAINSIZE], generator=torch.Generator().manual_seed(SEED))\n",
    "validation_set, _ = random_split(validation_set, [VALSIZE, len(validation_set)-VALSIZE], generator=torch.Generator().manual_seed(SEED))\n",
    "test_set, _ = random_split(test_set, [TESTSIZE, len(test_set)-TESTSIZE], generator=torch.Generator().manual_seed(SEED))\n",
    "\n",
    "\n",
    "# Create data loaders for our datasets; shuffle for training, not for test\n",
    "training_loader = DataLoader(training_set, batch_size=25, shuffle=True, generator=torch.Generator().manual_seed(SEED))\n",
    "validation_loader = DataLoader(validation_set, batch_size=25, shuffle=False, generator=torch.Generator().manual_seed(SEED))\n",
    "test_loader = DataLoader(test_set, batch_size=25, shuffle=False, generator=torch.Generator().manual_seed(SEED))\n",
    "\n",
    "# ===========================\n",
    "\n",
    "# Report split sizes\n",
    "print('Training set has {} instances'.format(len(training_set)))\n",
    "print('validation set has {} instances'.format(len(validation_set)))\n",
    "print('test set has {} instances'.format(len(test_set)))"
   ]
  },
  {
   "cell_type": "code",
   "execution_count": 6,
   "metadata": {},
   "outputs": [
    {
     "name": "stdout",
     "output_type": "stream",
     "text": [
      "0: ─╭AmplitudeEmbedding(M0)──U3(0.58,0.33,0.80)─╭●──RY(0.78)─╭X──RY(0.94)─╭●──U3(0.11,0.78,0.35)\n",
      "1: ─├AmplitudeEmbedding(M0)──U3(0.53,0.72,0.99)─╰X──RZ(0.14)─╰●───────────╰X──U3(0.92,0.44,0.74)\n",
      "2: ─├AmplitudeEmbedding(M0)──U3(0.81,0.29,0.29)─╭●──RY(0.34)─╭X──RY(0.38)─╭●──U3(0.96,0.27,0.70)\n",
      "3: ─├AmplitudeEmbedding(M0)──U3(0.48,0.90,0.01)─╰X──RZ(0.26)─╰●───────────╰X──U3(0.36,0.82,0.52)\n",
      "4: ─╰AmplitudeEmbedding(M0)──U3(0.65,0.42,0.76)─────────────────────────────────────────────────\n",
      "\n",
      "───U3(0.75,0.32,0.74)─╭X──RZ(0.84)─╭●───────────╭X──U3(0.30,0.35,0.06)──U3(0.20,0.51,0.98)──────────\n",
      "──────────────────────│────────────│────────────│───U3(0.29,0.76,0.68)─╭●───────────────────RY(0.96)\n",
      "──────────────────────│────────────│────────────│───U3(0.96,0.56,0.28)─╰X───────────────────RZ(0.43)\n",
      "──────────────────────│────────────│────────────│───U3(0.78,0.10,0.03)─────────────────────╭●───────\n",
      "──────────────────────╰●──RY(0.43)─╰X──RY(0.62)─╰●──U3(0.41,0.94,0.52)──U3(0.96,0.74,0.73)─╰X───────\n",
      "\n",
      "────────────────────────────────────────────────────────────────────────╭●─────────────────\n",
      "──╭X─────────RY(0.69)─╭●─────────U3(0.43,0.81,0.86)─────────────────────│──────────────────\n",
      "──╰●──────────────────╰X─────────U3(0.23,0.48,0.41)──U3(0.32,0.16,0.86)─╰X─────────────────\n",
      "───RY(0.84)─╭X─────────RY(0.91)─╭●───────────────────U3(0.50,0.72,0.97)────────────────────\n",
      "───RZ(0.09)─╰●──────────────────╰X───────────────────U3(0.40,0.07,0.16)──U3(0.88,0.04,0.03)\n",
      "\n",
      "───RY(0.58)─╭X──RY(0.85)─╭●──U3(0.88,0.42,0.49)──U3(0.19,0.04,0.90)─╭X──RZ(0.12)─╭●───────────╭X\n",
      "────────────│────────────│──────────────────────────────────────────│────────────│────────────│─\n",
      "───RZ(0.30)─╰●───────────╰X──U3(0.68,0.33,0.28)─────────────────────│────────────│────────────│─\n",
      "────────────────────────────────────────────────────────────────────│────────────│────────────│─\n",
      "────────────────────────────────────────────────────────────────────╰●──RY(0.36)─╰X──RY(0.78)─╰●\n",
      "\n",
      "───U3(0.13,0.45,0.25)──U3(0.37,0.09,0.02)─────────────────────────────────────────────────\n",
      "──────────────────────────────────────────────────────────────────────────────────────────\n",
      "───U3(0.09,0.32,0.69)─────────────────────╭●──RY(0.51)─╭X──RY(0.55)─╭●──U3(0.82,0.76,0.94)\n",
      "──────────────────────────────────────────│────────────│────────────│─────────────────────\n",
      "───U3(0.94,0.68,0.02)──U3(0.20,0.22,0.30)─╰X──RZ(0.78)─╰●───────────╰X──U3(0.22,0.38,0.03)\n",
      "\n",
      "──────────────────────╭●──RY(0.73)─╭X──RY(0.61)─╭●──U3(0.08,0.74,0.83)──U3(0.37,0.09,0.02)─╭●\n",
      "──────────────────────│────────────│────────────│──────────────────────────────────────────│─\n",
      "──────────────────────│────────────│────────────│──────────────────────────────────────────│─\n",
      "──────────────────────│────────────│────────────│──────────────────────────────────────────│─\n",
      "───U3(0.94,0.09,0.70)─╰X──RZ(0.92)─╰●───────────╰X──U3(0.97,0.10,0.80)──U3(0.94,0.09,0.70)─╰X\n",
      "\n",
      "───RY(0.73)─╭X──RY(0.61)─╭●──U3(0.08,0.74,0.83)─┤  <Z>\n",
      "────────────│────────────│──────────────────────┤     \n",
      "────────────│────────────│──────────────────────┤     \n",
      "────────────│────────────│──────────────────────┤     \n",
      "───RZ(0.92)─╰●───────────╰X──U3(0.97,0.10,0.80)─┤     \n"
     ]
    }
   ],
   "source": [
    "loss_fn = MSELoss() # TODO: choose loss function\n",
    "params = torch.rand(qcnn.Calculate_Param_Num(), requires_grad=True) # TODO: choose params length\n",
    "\n",
    "optimizer = Adam([params], lr=0.01) # TODO: choose optimizer\n",
    "def estimated_label(params, data, Is_print=False):\n",
    "    if Is_print:\n",
    "        drawer = qml.draw(circuit)\n",
    "        print(drawer(params,data))\n",
    "    return circuit(params, data) # TODO: customize your estimated label\n",
    "# draw circuit\n",
    "inputs=next(iter(training_loader))\n",
    "inputs=inputs[0]\n",
    "data=inputs[0]\n",
    "with torch.no_grad():\n",
    "    estimated_label(params,data,True)"
   ]
  },
  {
   "cell_type": "code",
   "execution_count": 7,
   "metadata": {},
   "outputs": [
    {
     "data": {
      "application/vnd.jupyter.widget-view+json": {
       "model_id": "048ae8a23aa54599ab52030a3c274b22",
       "version_major": 2,
       "version_minor": 0
      },
      "text/plain": [
       "1:   0%|          | 0/400 [00:00<?, ?it/s]"
      ]
     },
     "metadata": {},
     "output_type": "display_data"
    },
    {
     "data": {
      "application/vnd.jupyter.widget-view+json": {
       "model_id": "29e28b819be0459eb6f10578ecb2dadf",
       "version_major": 2,
       "version_minor": 0
      },
      "text/plain": [
       "2:   0%|          | 0/400 [00:00<?, ?it/s]"
      ]
     },
     "metadata": {},
     "output_type": "display_data"
    },
    {
     "data": {
      "application/vnd.jupyter.widget-view+json": {
       "model_id": "e0aaefd3d3314bea99c5ef90780f610f",
       "version_major": 2,
       "version_minor": 0
      },
      "text/plain": [
       "3:   0%|          | 0/400 [00:00<?, ?it/s]"
      ]
     },
     "metadata": {},
     "output_type": "display_data"
    },
    {
     "data": {
      "application/vnd.jupyter.widget-view+json": {
       "model_id": "5b4810bf65e94e28ba9458d42e4657ec",
       "version_major": 2,
       "version_minor": 0
      },
      "text/plain": [
       "4:   0%|          | 0/400 [00:00<?, ?it/s]"
      ]
     },
     "metadata": {},
     "output_type": "display_data"
    },
    {
     "data": {
      "application/vnd.jupyter.widget-view+json": {
       "model_id": "397d8b72bbc749e09dcf77a35086e40d",
       "version_major": 2,
       "version_minor": 0
      },
      "text/plain": [
       "5:   0%|          | 0/400 [00:00<?, ?it/s]"
      ]
     },
     "metadata": {},
     "output_type": "display_data"
    },
    {
     "data": {
      "application/vnd.jupyter.widget-view+json": {
       "model_id": "1e3b0181e9cf488a87114152de8ea5c8",
       "version_major": 2,
       "version_minor": 0
      },
      "text/plain": [
       "6:   0%|          | 0/400 [00:00<?, ?it/s]"
      ]
     },
     "metadata": {},
     "output_type": "display_data"
    },
    {
     "data": {
      "application/vnd.jupyter.widget-view+json": {
       "model_id": "7520cfc3d4bb4b218164ed7bc46a784c",
       "version_major": 2,
       "version_minor": 0
      },
      "text/plain": [
       "7:   0%|          | 0/400 [00:00<?, ?it/s]"
      ]
     },
     "metadata": {},
     "output_type": "display_data"
    },
    {
     "data": {
      "application/vnd.jupyter.widget-view+json": {
       "model_id": "f3d76849edb544848a20d2fe6b13d41b",
       "version_major": 2,
       "version_minor": 0
      },
      "text/plain": [
       "8:   0%|          | 0/400 [00:00<?, ?it/s]"
      ]
     },
     "metadata": {},
     "output_type": "display_data"
    },
    {
     "data": {
      "application/vnd.jupyter.widget-view+json": {
       "model_id": "58d24368ee5e4edbb140214e750fba75",
       "version_major": 2,
       "version_minor": 0
      },
      "text/plain": [
       "9:   0%|          | 0/400 [00:00<?, ?it/s]"
      ]
     },
     "metadata": {},
     "output_type": "display_data"
    },
    {
     "data": {
      "application/vnd.jupyter.widget-view+json": {
       "model_id": "671f6dc9cb0542888b314b945ad4c946",
       "version_major": 2,
       "version_minor": 0
      },
      "text/plain": [
       "10:   0%|          | 0/400 [00:00<?, ?it/s]"
      ]
     },
     "metadata": {},
     "output_type": "display_data"
    }
   ],
   "source": [
    "from tqdm.notebook import tqdm\n",
    "import logging\n",
    "import datetime\n",
    "\n",
    "filepath = './SU4_results'\n",
    "if os.path.exists(filepath) == False:\n",
    "    os.makedirs(filepath)\n",
    "\n",
    "writer = SummaryWriter(log_dir='./runs')\n",
    "\n",
    "loss_list = []\n",
    "avg_loss_list = []\n",
    "avg_vloss_list = []\n",
    "history_of_parameters = []\n",
    "for epoch in range(EPOCHS):\n",
    "    avg_loss = 0.0\n",
    "    for i, data in tqdm(enumerate(training_loader), total=len(training_loader), desc=f\"{epoch+1}\"):\n",
    "        inputs, labels = data\n",
    "        optimizer.zero_grad()\n",
    "        loss = torch.tensor(0, dtype=torch.float64)\n",
    "        for input, label in zip(inputs, labels):\n",
    "            output = estimated_label(params, input.to(torch.float64))\n",
    "            loss+=loss_fn(output, 2*label.to(torch.float64)-1)/len(labels)\n",
    "        loss.backward()\n",
    "        optimizer.step()\n",
    "        avg_loss += loss.item()\n",
    "        loss_list.append(loss.item())\n",
    "        writer.add_scalar('local training loss', loss.item(), epoch*len(training_loader)+i)\n",
    "        np.save(filepath+'/'+f'epoch{epoch}_iter{epoch*len(training_loader)+i}', params.detach().numpy())\n",
    "        # logger.debug(\"epoch: {} batch_index: {} --- loss: {} \\t params: {}\".format(epoch+1, i+1, loss.item(), params.detach().numpy()))\n",
    "\n",
    "    avg_loss = avg_loss/len(training_loader)\n",
    "    avg_loss_list.append(avg_loss)\n",
    "\n",
    "    with torch.no_grad():\n",
    "        avg_vloss = 0.0\n",
    "        for i, vdata in enumerate(validation_loader):\n",
    "            vloss = torch.tensor(0, dtype=torch.float64)\n",
    "            vinputs, vlabels = vdata\n",
    "            for vinput, vlabel in zip(vinputs, vlabels):\n",
    "                voutput = estimated_label(params, vinput.to(torch.float64))\n",
    "                vloss += loss_fn(voutput, 2*vlabel.to(torch.float64)-1)/len(vlabels)\n",
    "            avg_vloss += vloss.item()\n",
    "        avg_vloss = avg_vloss/len(validation_loader)\n",
    "        avg_vloss_list.append(avg_vloss)\n",
    "        history_of_parameters.append(params.numpy())\n",
    "        np.save(filepath+'/'+f'validation_epoch{epoch}', params.numpy())\n",
    "    # print('LOSS train {} valid {}'.format(avg_loss, avg_vloss))\n",
    "\n",
    "    # Log the running loss averaged per batch\n",
    "    # for both training and test\n",
    "    writer.add_scalar('validation Loss', avg_vloss, epoch)\n",
    "    writer.flush()\n",
    "        # print('{}: {}'.format(i, loss.item()))"
   ]
  },
  {
   "cell_type": "code",
   "execution_count": 8,
   "metadata": {},
   "outputs": [
    {
     "data": {
      "text/plain": [
       "<matplotlib.collections.PathCollection at 0x15c0e91e550>"
      ]
     },
     "execution_count": 8,
     "metadata": {},
     "output_type": "execute_result"
    },
    {
     "data": {
      "image/png": "[encoded data removed]",
      "text/plain": [
       "<Figure size 432x288 with 1 Axes>"
      ]
     },
     "metadata": {
      "needs_background": "light"
     },
     "output_type": "display_data"
    }
   ],
   "source": [
    "from matplotlib import pyplot as plt\n",
    "x = range(len(loss_list))\n",
    "plt.scatter(x, loss_list, s=0.5)"
   ]
  },
  {
   "cell_type": "code",
   "execution_count": 9,
   "metadata": {},
   "outputs": [
    {
     "name": "stdout",
     "output_type": "stream",
     "text": [
      "0.996\n"
     ]
    }
   ],
   "source": [
    "with torch.no_grad():\n",
    "    est_labels = []\n",
    "    true_labels = []\n",
    "    for i, data in enumerate(test_loader):\n",
    "        test_datas, labels = data\n",
    "        for label, test_data in zip(labels, test_datas):\n",
    "            est_labels.append(estimated_label(params, test_data).numpy()>0)\n",
    "            true_labels.append(label.numpy())\n",
    "\n",
    "        accuracy = sum(np.array(est_labels)==np.array(true_labels))/len(est_labels)\n",
    "        accuracy = accuracy.item()\n",
    "    print(accuracy)"
   ]
  },
  {
   "cell_type": "code",
   "execution_count": 10,
   "metadata": {},
   "outputs": [],
   "source": [
    "import json\n",
    "\n",
    "with open(filepath+'/'+'summary.json', 'w') as fp:\n",
    "    json.dump(dict(\n",
    "        accuracy = accuracy,\n",
    "        loss = loss_list,\n",
    "        avg_loss = avg_loss_list,\n",
    "        avg_vloss = avg_vloss_list,\n",
    "    ), fp=fp)"
   ]
  }
 ],
 "metadata": {
  "kernelspec": {
   "display_name": "Python 3.9.12 ('base')",
   "language": "python",
   "name": "python3"
  },
  "language_info": {
   "codemirror_mode": {
    "name": "ipython",
    "version": 3
   },
   "file_extension": ".py",
   "mimetype": "text/x-python",
   "name": "python",
   "nbconvert_exporter": "python",
   "pygments_lexer": "ipython3",
   "version": "3.9.12"
  },
  "orig_nbformat": 4,
  "vscode": {
   "interpreter": {
    "hash": "ad2bdc8ecc057115af97d19610ffacc2b4e99fae6737bb82f5d7fb13d2f2c186"
   }
  }
 },
 "nbformat": 4,
 "nbformat_minor": 2
}
