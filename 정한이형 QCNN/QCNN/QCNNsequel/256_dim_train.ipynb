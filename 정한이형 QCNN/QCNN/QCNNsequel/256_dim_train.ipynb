{
 "cells": [
  {
   "cell_type": "code",
   "execution_count": 1,
   "metadata": {},
   "outputs": [],
   "source": [
    "import pennylane as qml\n",
    "import pennylane.numpy as np\n",
    "import torch\n",
    "from torch.nn import MSELoss, CrossEntropyLoss\n",
    "from torch.optim import Adam, Adagrad\n",
    "from torch.utils.data.dataloader import DataLoader\n",
    "from torch.utils.data.dataset import Dataset\n",
    "from torch.utils.data import random_split\n",
    "\n",
    "import os\n",
    "import torchvision\n",
    "import torchvision.transforms as transforms\n",
    "\n",
    "# PyTorch TensorBoard support\n",
    "from torch.utils.tensorboard import SummaryWriter\n",
    "from datetime import datetime"
   ]
  },
  {
   "cell_type": "code",
   "execution_count": 2,
   "metadata": {},
   "outputs": [],
   "source": [
    "EPOCHS = 5\n",
    "SEED = 16\n",
    "TRAINSIZE = 10000\n",
    "VALSIZE = 1000\n",
    "TESTSIZE = 1000"
   ]
  },
  {
   "cell_type": "code",
   "execution_count": 3,
   "metadata": {},
   "outputs": [],
   "source": [
    "from QCNN_circuit_only import QCNN\n",
    "from ansatz import ConvCirc1, PoolingCirc\n",
    "\n",
    "qcnn = QCNN(n_qubits=8, conv_ansatz=ConvCirc1(), pooling_ansatz=PoolingCirc(), stride=1)\n",
    "\n",
    "dev = qml.device('default.qubit', wires=qcnn.total_qubit)\n",
    "\n",
    "@qml.qnode(dev, interface='torch')\n",
    "def circuit(params, data):\n",
    "    qcnn.construct_circuit(params, data)\n",
    "    return qml.expval(qml.PauliZ(0))\n"
   ]
  },
  {
   "cell_type": "code",
   "execution_count": 4,
   "metadata": {},
   "outputs": [],
   "source": [
    "from datasetloading import TrainTestLoader"
   ]
  },
  {
   "cell_type": "code",
   "execution_count": 5,
   "metadata": {},
   "outputs": [
    {
     "name": "stdout",
     "output_type": "stream",
     "text": [
      "Training set has 10000 instances\n",
      "validation set has 1000 instances\n",
      "test set has 1000 instances\n"
     ]
    }
   ],
   "source": [
    "loader = TrainTestLoader('./mnist_train.csv', './mnist_test.csv')\n",
    "loader.scale_pca(n_dim=256)\n",
    "training_set, test_set = loader.return_dataset()\n",
    "training_set.filter([0, 1])\n",
    "test_set.filter([0,1])\n",
    "training_set, validation_set = random_split(training_set, [TRAINSIZE, len(training_set)-TRAINSIZE], generator=torch.Generator().manual_seed(SEED))\n",
    "validation_set, _ = random_split(validation_set, [VALSIZE, len(validation_set)-VALSIZE], generator=torch.Generator().manual_seed(SEED))\n",
    "test_set, _ = random_split(test_set, [TESTSIZE, len(test_set)-TESTSIZE], generator=torch.Generator().manual_seed(SEED))\n",
    "\n",
    "# Create data loaders for our datasets; shuffle for training, not for test\n",
    "training_loader = DataLoader(training_set, batch_size=25, shuffle=True, generator=torch.Generator().manual_seed(SEED))\n",
    "validation_loader = DataLoader(validation_set, batch_size=25, shuffle=False, generator=torch.Generator().manual_seed(SEED))\n",
    "test_loader = DataLoader(test_set, batch_size=25, shuffle=False, generator=torch.Generator().manual_seed(SEED))\n",
    "\n",
    "# ====================================\n",
    "\n",
    "# Report split sizes\n",
    "print('Training set has {} instances'.format(len(training_set)))\n",
    "print('validation set has {} instances'.format(len(validation_set)))\n",
    "print('test set has {} instances'.format(len(test_set)))"
   ]
  },
  {
   "cell_type": "code",
   "execution_count": 6,
   "metadata": {},
   "outputs": [
    {
     "name": "stdout",
     "output_type": "stream",
     "text": [
      "0: ─╭AmplitudeEmbedding(M0)──RY(0.96)─╭●──RY(0.58)────╭X─╭RY(0.32)────╭RY(0.24)──RY(0.95)─╭●\n",
      "1: ─├AmplitudeEmbedding(M0)──RY(0.58)─╰X──RY(0.20)─╭●─│──╰●─────────X─╰●─────────X────────│─\n",
      "2: ─├AmplitudeEmbedding(M0)──RY(0.15)─╭●──RY(0.26)─╰X─│──╭RY(0.27)────╭RY(0.50)──RY(0.45)─╰X\n",
      "3: ─├AmplitudeEmbedding(M0)──RY(0.44)─╰X──RY(0.67)─╭●─│──╰●─────────X─╰●─────────X──────────\n",
      "4: ─├AmplitudeEmbedding(M0)──RY(0.32)─╭●──RY(0.04)─╰X─│──╭RY(0.92)────╭RY(0.84)──RY(0.57)─╭●\n",
      "5: ─├AmplitudeEmbedding(M0)──RY(0.61)─╰X──RY(0.56)─╭●─│──╰●─────────X─╰●─────────X────────│─\n",
      "6: ─├AmplitudeEmbedding(M0)──RY(0.33)─╭●──RY(0.86)─╰X─│──╭RY(0.20)────╭RY(0.22)──RY(0.37)─╰X\n",
      "7: ─╰AmplitudeEmbedding(M0)──RY(0.95)─╰X──RY(0.06)────╰●─╰●─────────X─╰●─────────X──────────\n",
      "\n",
      "───RY(0.61)────╭X─╭RY(0.37)────╭RY(0.24)──RY(0.11)─╭●──RY(0.07)─╭X─╭RY(0.52)────╭RY(0.86)────┤  <Z>\n",
      "───────────────│──│────────────│───────────────────│────────────│──│────────────│────────────┤     \n",
      "───RY(0.46)─╭●─│──╰●─────────X─╰●─────────X────────│────────────│──│────────────│────────────┤     \n",
      "────────────│──│───────────────────────────────────│────────────│──│────────────│────────────┤     \n",
      "───RY(0.88)─╰X─│──╭RY(0.81)────╭RY(0.57)──RY(0.57)─╰X──RY(0.70)─╰●─╰●─────────X─╰●─────────X─┤     \n",
      "───────────────│──│────────────│─────────────────────────────────────────────────────────────┤     \n",
      "───RY(0.50)────╰●─╰●─────────X─╰●─────────X──────────────────────────────────────────────────┤     \n",
      "─────────────────────────────────────────────────────────────────────────────────────────────┤     \n"
     ]
    }
   ],
   "source": [
    "loss_fn = MSELoss() # TODO: choose loss function\n",
    "params = torch.rand(qcnn.Calculate_Param_Num(), requires_grad=True) # TODO: choose params length\n",
    "\n",
    "optimizer = Adam([params], lr=0.01) # TODO: choose optimizer\n",
    "def estimated_label(params, data,Is_print=False):\n",
    "    if Is_print:\n",
    "        drawer=qml.draw(circuit)\n",
    "        print(drawer(params,data))\n",
    "    return circuit(params, data) # TODO: customize your extimated label\n",
    "# draw circuit\n",
    "inputs=next(iter(training_loader))\n",
    "inputs=inputs[0]\n",
    "data=inputs[0]\n",
    "with torch.no_grad():\n",
    "    estimated_label(params,data,True)"
   ]
  },
  {
   "cell_type": "code",
   "execution_count": 7,
   "metadata": {},
   "outputs": [
    {
     "data": {
      "application/vnd.jupyter.widget-view+json": {
       "model_id": "25a46e21e1b446eba88159ac7e53cf1a",
       "version_major": 2,
       "version_minor": 0
      },
      "text/plain": [
       "1:   0%|          | 0/400 [00:00<?, ?it/s]"
      ]
     },
     "metadata": {},
     "output_type": "display_data"
    },
    {
     "data": {
      "application/vnd.jupyter.widget-view+json": {
       "model_id": "a9fa9334a43b437384bfdc4a9683e85e",
       "version_major": 2,
       "version_minor": 0
      },
      "text/plain": [
       "2:   0%|          | 0/400 [00:00<?, ?it/s]"
      ]
     },
     "metadata": {},
     "output_type": "display_data"
    },
    {
     "data": {
      "application/vnd.jupyter.widget-view+json": {
       "model_id": "a174bdfd63de4cb9bf339a2b4ee07578",
       "version_major": 2,
       "version_minor": 0
      },
      "text/plain": [
       "3:   0%|          | 0/400 [00:00<?, ?it/s]"
      ]
     },
     "metadata": {},
     "output_type": "display_data"
    },
    {
     "data": {
      "application/vnd.jupyter.widget-view+json": {
       "model_id": "723b4bbcce0743238c1e74de1968dc0c",
       "version_major": 2,
       "version_minor": 0
      },
      "text/plain": [
       "4:   0%|          | 0/400 [00:00<?, ?it/s]"
      ]
     },
     "metadata": {},
     "output_type": "display_data"
    },
    {
     "data": {
      "application/vnd.jupyter.widget-view+json": {
       "model_id": "664c94d609874952a89116c37faf3bbc",
       "version_major": 2,
       "version_minor": 0
      },
      "text/plain": [
       "5:   0%|          | 0/400 [00:00<?, ?it/s]"
      ]
     },
     "metadata": {},
     "output_type": "display_data"
    }
   ],
   "source": [
    "from tqdm.notebook import tqdm\n",
    "import logging\n",
    "import datetime\n",
    "\n",
    "filepath = './experiment_results'\n",
    "if os.path.exists(filepath) == False:\n",
    "    os.makedirs(filepath)\n",
    "\n",
    "\n",
    "writer = SummaryWriter(log_dir='./runs')\n",
    "\n",
    "loss_list = []\n",
    "avg_loss_list = []\n",
    "avg_vloss_list = []\n",
    "history_of_parameters = []\n",
    "for epoch in range(EPOCHS):\n",
    "    avg_loss = 0.0\n",
    "    for i, data in tqdm(enumerate(training_loader), total=len(training_loader), desc=f\"{epoch+1}\"):\n",
    "        inputs, labels = data\n",
    "        optimizer.zero_grad()\n",
    "        loss = torch.tensor(0, dtype=torch.float64)\n",
    "        for input, label in zip(inputs, labels):\n",
    "            output = estimated_label(params, input.to(torch.float64))\n",
    "            loss+=loss_fn(output, 2*label.to(torch.float64)-1)/len(labels)\n",
    "        loss.backward()       \n",
    "        optimizer.step()\n",
    "        avg_loss += loss.item()\n",
    "        loss_list.append(loss.item())\n",
    "        writer.add_scalar('local training loss', loss.item(), epoch*len(training_loader)+i)\n",
    "        np.save(filepath+'/'+f'epoch{epoch}_iter{epoch*len(training_loader)+i}', params.detach().numpy())\n",
    "        # logger.debug(\"epoch: {} batch_index: {} --- loss: {} \\t params: {}\".format(epoch+1, i+1, loss.item(), params.detach().numpy()))\n",
    "\n",
    "\n",
    "    avg_loss = avg_loss/len(training_loader)\n",
    "    avg_loss_list.append(avg_loss)\n",
    "    \n",
    "    \n",
    "    with torch.no_grad():\n",
    "        avg_vloss = 0.0\n",
    "        for i, vdata in enumerate(validation_loader):\n",
    "            vloss = torch.tensor(0, dtype=torch.float64)\n",
    "            vinputs, vlabels = vdata\n",
    "            for vinput, vlabel in zip(vinputs, vlabels):\n",
    "                voutput = estimated_label(params, vinput.to(torch.float64))\n",
    "                vloss += loss_fn(voutput, 2*vlabel.to(torch.float64)-1)/len(vlabels)\n",
    "            avg_vloss += vloss.item()\n",
    "        avg_vloss = avg_vloss/len(validation_loader)\n",
    "        avg_vloss_list.append(avg_vloss)\n",
    "        history_of_parameters.append(params.numpy())\n",
    "        np.save(filepath+'/'+f'vaidataion_epoch{epoch}', params.numpy())\n",
    "    # print('LOSS train {} valid {}'.format(avg_loss, avg_vloss))\n",
    "\n",
    "    # Log the running loss averaged per batch\n",
    "    # for both training and test\n",
    "    writer.add_scalar('validation Loss', avg_vloss, epoch)\n",
    "    writer.flush()\n",
    "        # print('{}: {}'.format(i, loss.item()))\n"
   ]
  },
  {
   "cell_type": "code",
   "execution_count": 8,
   "metadata": {},
   "outputs": [
    {
     "data": {
      "application/vnd.jupyter.widget-view+json": {
       "model_id": "71ae76309be94d28864e6f5f78621736",
       "version_major": 2,
       "version_minor": 0
      },
      "text/plain": [
       "6:   0%|          | 0/400 [00:00<?, ?it/s]"
      ]
     },
     "metadata": {},
     "output_type": "display_data"
    },
    {
     "data": {
      "application/vnd.jupyter.widget-view+json": {
       "model_id": "fcc81ebbca1b4451be61d2c3463b84ac",
       "version_major": 2,
       "version_minor": 0
      },
      "text/plain": [
       "7:   0%|          | 0/400 [00:00<?, ?it/s]"
      ]
     },
     "metadata": {},
     "output_type": "display_data"
    },
    {
     "data": {
      "application/vnd.jupyter.widget-view+json": {
       "model_id": "f092e859687841ffabe786d5b907412f",
       "version_major": 2,
       "version_minor": 0
      },
      "text/plain": [
       "8:   0%|          | 0/400 [00:00<?, ?it/s]"
      ]
     },
     "metadata": {},
     "output_type": "display_data"
    },
    {
     "data": {
      "application/vnd.jupyter.widget-view+json": {
       "model_id": "5ae401e052934847abaa4ccb200f9169",
       "version_major": 2,
       "version_minor": 0
      },
      "text/plain": [
       "9:   0%|          | 0/400 [00:00<?, ?it/s]"
      ]
     },
     "metadata": {},
     "output_type": "display_data"
    },
    {
     "data": {
      "application/vnd.jupyter.widget-view+json": {
       "model_id": "479034423e1048bd9f3e5f79d57631c0",
       "version_major": 2,
       "version_minor": 0
      },
      "text/plain": [
       "10:   0%|          | 0/400 [00:00<?, ?it/s]"
      ]
     },
     "metadata": {},
     "output_type": "display_data"
    }
   ],
   "source": [
    "for epoch in range(5,10):\n",
    "    avg_loss = 0.0\n",
    "    for i, data in tqdm(enumerate(training_loader), total=len(training_loader), desc=f\"{epoch+1}\"):\n",
    "        inputs, labels = data\n",
    "        optimizer.zero_grad()\n",
    "        loss = torch.tensor(0, dtype=torch.float64)\n",
    "        for input, label in zip(inputs, labels):\n",
    "            output = estimated_label(params, input.to(torch.float64))\n",
    "            loss+=loss_fn(output, 2*label.to(torch.float64)-1)/len(labels)\n",
    "        loss.backward()       \n",
    "        optimizer.step()\n",
    "        avg_loss += loss.item()\n",
    "        loss_list.append(loss.item())\n",
    "        writer.add_scalar('local training loss', loss.item(), epoch*len(training_loader)+i)\n",
    "        np.save(filepath+'/'+f'epoch{epoch}_iter{epoch*len(training_loader)+i}', params.detach().numpy())\n",
    "        # logger.debug(\"epoch: {} batch_index: {} --- loss: {} \\t params: {}\".format(epoch+1, i+1, loss.item(), params.detach().numpy()))\n",
    "\n",
    "\n",
    "    avg_loss = avg_loss/len(training_loader)\n",
    "    avg_loss_list.append(avg_loss)\n",
    "    \n",
    "    \n",
    "    with torch.no_grad():\n",
    "        avg_vloss = 0.0\n",
    "        for i, vdata in enumerate(validation_loader):\n",
    "            vloss = torch.tensor(0, dtype=torch.float64)\n",
    "            vinputs, vlabels = vdata\n",
    "            for vinput, vlabel in zip(vinputs, vlabels):\n",
    "                voutput = estimated_label(params, vinput.to(torch.float64))\n",
    "                vloss += loss_fn(voutput, 2*vlabel.to(torch.float64)-1)/len(vlabels)\n",
    "            avg_vloss += vloss.item()\n",
    "        avg_vloss = avg_vloss/len(validation_loader)\n",
    "        avg_vloss_list.append(avg_vloss)\n",
    "        history_of_parameters.append(params.numpy())\n",
    "        np.save(filepath+'/'+f'vaidataion_epoch{epoch}', params.numpy())\n",
    "    # print('LOSS train {} valid {}'.format(avg_loss, avg_vloss))\n",
    "\n",
    "    # Log the running loss averaged per batch\n",
    "    # for both training and test\n",
    "    writer.add_scalar('validation Loss', avg_vloss, epoch)\n",
    "    writer.flush()\n",
    "        # print('{}: {}'.format(i, loss.item()))"
   ]
  },
  {
   "cell_type": "code",
   "execution_count": 9,
   "metadata": {},
   "outputs": [
    {
     "data": {
      "text/plain": [
       "<matplotlib.collections.PathCollection at 0x1b90c20c490>"
      ]
     },
     "execution_count": 9,
     "metadata": {},
     "output_type": "execute_result"
    },
    {
     "data": {
      "image/png": "[encoded data removed]",
      "text/plain": [
       "<Figure size 432x288 with 1 Axes>"
      ]
     },
     "metadata": {
      "needs_background": "light"
     },
     "output_type": "display_data"
    }
   ],
   "source": [
    "from matplotlib import pyplot as plt\n",
    "x=range(len(loss_list))\n",
    "plt.scatter(x,loss_list,s=0.5)"
   ]
  },
  {
   "cell_type": "code",
   "execution_count": 10,
   "metadata": {},
   "outputs": [
    {
     "name": "stdout",
     "output_type": "stream",
     "text": [
      "0.951\n"
     ]
    }
   ],
   "source": [
    "with torch.no_grad():\n",
    "    est_labels = []\n",
    "    true_labels = []\n",
    "    for i, data in enumerate(test_loader):\n",
    "        test_datas, labels = data\n",
    "        for label, test_data in zip(labels, test_datas):\n",
    "            est_labels.append(estimated_label(params, test_data).numpy()>0)\n",
    "            true_labels.append(label.numpy())\n",
    "\n",
    "    accuracy = sum(np.array(est_labels)==np.array(true_labels))/len(est_labels)\n",
    "    accuracy = accuracy.item()\n",
    "    print(accuracy)"
   ]
  },
  {
   "cell_type": "code",
   "execution_count": 11,
   "metadata": {},
   "outputs": [],
   "source": [
    "import json\n",
    "\n",
    "with open(filepath+'/'+'summary.json', 'w') as fp:\n",
    "    json.dump(dict(\n",
    "        accuracy=accuracy,\n",
    "        loss=loss_list,\n",
    "        avg_loss = avg_loss_list,\n",
    "        avg_vloss = avg_vloss_list,\n",
    "    ), fp=fp)"
   ]
  },
  {
   "cell_type": "code",
   "execution_count": null,
   "metadata": {},
   "outputs": [],
   "source": []
  }
 ],
 "metadata": {
  "kernelspec": {
   "display_name": "Python 3.9.12 ('base')",
   "language": "python",
   "name": "python3"
  },
  "language_info": {
   "codemirror_mode": {
    "name": "ipython",
    "version": 3
   },
   "file_extension": ".py",
   "mimetype": "text/x-python",
   "name": "python",
   "nbconvert_exporter": "python",
   "pygments_lexer": "ipython3",
   "version": "3.9.12"
  },
  "orig_nbformat": 4,
  "vscode": {
   "interpreter": {
    "hash": "ad2bdc8ecc057115af97d19610ffacc2b4e99fae6737bb82f5d7fb13d2f2c186"
   }
  }
 },
 "nbformat": 4,
 "nbformat_minor": 2
}
