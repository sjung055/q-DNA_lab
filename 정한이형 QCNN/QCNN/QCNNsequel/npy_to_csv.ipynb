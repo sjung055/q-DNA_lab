{
 "cells": [
  {
   "cell_type": "code",
   "execution_count": 2,
   "metadata": {},
   "outputs": [
    {
     "name": "stdout",
     "output_type": "stream",
     "text": [
      "[ 0.78336966 -0.23564301 -0.7547655   0.30878198  0.5634841   0.29042116\n",
      "  0.55751294  0.60871524 -0.3440868   0.42623016  0.21105833  1.2227494\n",
      "  0.13029991 -0.40952083  1.7537092   0.3270433  -0.85744137  1.2216357\n",
      "  0.9802009   0.14349528  0.4074858   1.3531861   0.5164137   0.7892062\n",
      "  0.50092256  0.55759907  0.18209316  0.13470803  0.63546854  0.09470409\n",
      "  0.7591023   0.60073406]\n"
     ]
    }
   ],
   "source": [
    "import numpy as np\n",
    "data = np.load('./skip_pooling_1_results/validation_epoch0.npy')\n",
    "print(data)"
   ]
  }
 ],
 "metadata": {
  "kernelspec": {
   "display_name": "Python 3.9.12 ('base')",
   "language": "python",
   "name": "python3"
  },
  "language_info": {
   "codemirror_mode": {
    "name": "ipython",
    "version": 3
   },
   "file_extension": ".py",
   "mimetype": "text/x-python",
   "name": "python",
   "nbconvert_exporter": "python",
   "pygments_lexer": "ipython3",
   "version": "3.9.12"
  },
  "orig_nbformat": 4,
  "vscode": {
   "interpreter": {
    "hash": "ad2bdc8ecc057115af97d19610ffacc2b4e99fae6737bb82f5d7fb13d2f2c186"
   }
  }
 },
 "nbformat": 4,
 "nbformat_minor": 2
}
